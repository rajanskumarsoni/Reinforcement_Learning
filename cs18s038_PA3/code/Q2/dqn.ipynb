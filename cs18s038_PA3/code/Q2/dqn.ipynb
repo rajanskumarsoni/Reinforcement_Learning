{
 "cells": [
  {
   "cell_type": "code",
   "execution_count": 2,
   "metadata": {
    "ExecuteTime": {
     "end_time": "2020-07-25T09:57:10.787345Z",
     "start_time": "2020-07-25T09:57:00.188704Z"
    }
   },
   "outputs": [],
   "source": [
    "import gym\n",
    "from gym import wrappers\n",
    "import random\n",
    "import math\n",
    "import torch\n",
    "import torch.nn as nn\n",
    "import torch.optim as optim\n",
    "from torch.autograd import Variable\n",
    "import torch.nn.functional as F\n",
    "import matplotlib.pyplot as plt\n",
    "import copy\n",
    "from torch.utils.tensorboard import SummaryWriter\n"
   ]
  },
  {
   "cell_type": "code",
   "execution_count": 25,
   "metadata": {
    "ExecuteTime": {
     "end_time": "2020-07-25T13:30:45.688470Z",
     "start_time": "2020-07-25T13:30:45.667882Z"
    }
   },
   "outputs": [],
   "source": [
    "\n",
    "\n",
    "class Replay() :\n",
    "    def __init__(self, capacity):\n",
    "        self.capacity =capacity\n",
    "        self.memory = []\n",
    "    def put(self, tran_data,flag):\n",
    "        \"\"\" it saves a transition depending upon  the cpacity.\n",
    "        It deletes the transiotion depending upon the flag value.\n",
    "        if flag value is 1 then it randomly deletes the transition or it delets for the \n",
    "        first position\"\"\"\n",
    "        self.memory.append(tran_data)\n",
    "        if len(self.memory) == self.capacity:\n",
    "            if flag == 1:\n",
    "                r = random.choice(range(0,self.capacity))\n",
    "                del self.memory[r]\n",
    "            else:\n",
    "                del self.memory[0]\n",
    "    def sample_batch(self, batch_size):\n",
    "        \"\"\"returns the batch of randomly selected transition samples\"\"\"\n",
    "        return random.sample(self.memory, batch_size)\n",
    "    def __len__(self):\n",
    "        return len(self.memory)\n",
    "\n",
    "class NeuralNetwork(nn.Module):\n",
    "    def __init__(self, hl):\n",
    "        nn.Module.__init__(self)\n",
    "        self.l1 = nn.Linear(4, hl)\n",
    "        self.l2 = nn.Linear(hl, hl)\n",
    "        self.l3 =  nn.Linear(hl, hl)\n",
    "        self.l4 =  nn.Linear(hl, 2)\n",
    "    def forward(self, x):\n",
    "        x = F.relu(self.l1(x))\n",
    "        x = F.relu(self.l2(x))\n",
    "        x = F.relu(self.l3(x))\n",
    "        x = self.l4(x)\n",
    "        return x\n",
    "\n",
    "\n",
    "class DQN():\n",
    "    def __init__(self, batch_size, epsilon_start, epsilon_end, lr, gamma, hl_size, re_memory_size, episodes, targe_change, decay_rate):\n",
    "        self.batch_size = batch_size\n",
    "        self.epsilon_start = epsilon_start\n",
    "        self.epsilon_end = epsilon_end\n",
    "        self.gamma = gamma \n",
    "        self.re_memory = Replay(re_memory_size)\n",
    "        self.net = NeuralNetwork(hl_size).float()\n",
    "        self.optimizer = optimizer = torch.optim.Adam(self.net.parameters(), lr=lr)\n",
    "#         self.loss =F.smooth_l1_loss()\n",
    "        self.target_net = NeuralNetwork(hl_size).float()\n",
    "        self.count =0\n",
    "        self.episodes = episodes\n",
    "#         self.totalloss = []\n",
    "        self.targe_change = targe_change\n",
    "        self.decay_rate = decay_rate\n",
    "        self.epsilon =  epsilon_start\n",
    "        self.episode_count = 0\n",
    "       \n",
    "        \n",
    "\n",
    "\n",
    "    def select_action(self, env):\n",
    "       \n",
    "        self.epsilon = self.epsilon_end + (self.epsilon_start - self.epsilon_end) * \\\n",
    "                        math.exp(-1. * self.count / self.decay_rate)\n",
    "        self.count+=1\n",
    "        if random.uniform(0, 1) < self.epsilon:\n",
    "            action = env.action_space.sample()\n",
    "        else :\n",
    "            action = np.argmax(self.net.forward(torch.tensor(env.state).unsqueeze(0).float()).detach().numpy())\n",
    "#             print(action)\n",
    "        return action\n",
    "\n",
    "    def train_network(self):\n",
    "        if len(self.re_memory) < self.batch_size:\n",
    "            return 0\n",
    "            bs = len(self.re_memory)\n",
    "            \n",
    "            \n",
    "        else :\n",
    "            bs = self.batch_size\n",
    "            \n",
    "        s_batch = self.re_memory.sample_batch(bs)\n",
    "        batch_state, batch_action, batch_next_state, batch_reward, batch_ter = zip(*s_batch)\n",
    "        \n",
    "        batch_state = torch.tensor(batch_state).float()\n",
    "        batch_action = torch.tensor(batch_action).reshape([bs,1])\n",
    "        batch_next_state = torch.tensor(batch_next_state).float()\n",
    "        batch_reward = torch.tensor(batch_reward).float().reshape([bs,1])\n",
    "        batch_ter = torch.tensor(batch_ter).reshape([bs,1])\n",
    "#         print(len(batch_state),\"wqdqd\")\n",
    "#         l = []\n",
    "#         print(\"batch_ter\",batch_ter[0])\n",
    "        \n",
    "            \n",
    "#         print(\"batch_action\",batch_action)\n",
    "#         print(\"batch_next_state\",batch_next_state.size())\n",
    "#         print(\"batch_reward\",batch_reward.size())\n",
    "        \n",
    "        current_q_values = self.net(batch_state).gather(1, batch_action)\n",
    "        # expected Q values are estimated from actions which gives maximum Q value\n",
    "        max_next_q_values = self.target_net(batch_next_state).max(1).values.reshape([bs,1]).detach()\n",
    "        expected_q_values = batch_reward + (self.gamma * max_next_q_values)\n",
    "#         print(\"expected_q_values\",expected_q_values.size())\n",
    "#         print(\"batch_ter\",batch_ter.size())\n",
    "#         print(\"batch_reward\",batch_reward.size())\n",
    "#         print(\"current_q_values\",current_q_values.size())\n",
    "        mu = 0\n",
    "        for f, g in zip(batch_ter, batch_reward):\n",
    "            if f == True:\n",
    "                expected_q_values[mu] = g\n",
    "            mu+=1\n",
    "                \n",
    "#         print(current_q_values.size(), expected_q_values.size())\n",
    "#         print(\"before\",torch.sum(self.net.l1.weight.data))\n",
    "#         print(\"expected_q_values\",expected_q_values.size())\n",
    "#         print(\"current_q_values\",current_q_values.size())\n",
    "        loss= F.smooth_l1_loss(current_q_values, expected_q_values)\n",
    "#         print(loss.item())\n",
    "#         self.totalloss.append(loss.item())\n",
    "        self.optimizer.zero_grad()\n",
    "#         writer.add_scalar('loss per batch', loss.item(), len(self.totalloss))\n",
    "        loss.backward()\n",
    "        for param in self.net.parameters():\n",
    "            param.grad.data.clamp_(-1, 1)\n",
    "        self.optimizer.step()\n",
    "#         print(loss.item(), \"dwedwedw\")\n",
    "#         print(\"after\",torch.sum(self.net.l1.weight.data))\n",
    "        return loss.item()\n",
    "\n",
    "\n",
    "\n",
    "\n",
    "    def episode(self, env):\n",
    "        state = env.reset()\n",
    "        step_count = 0\n",
    "        episode_loss = 0\n",
    "        \n",
    "        if self.episode_count % self.targe_change == 0:\n",
    "#                 print(\"fakru sarkaar\")\n",
    "                self.target_net = copy.deepcopy(self.net)\n",
    "        self.episode_count +=1\n",
    "#         self.epsilon = max(self.epsilon - (self.epsilon_start-self.epsilon_end)/self.decay_rate, .01)\n",
    "        total_reward = 0\n",
    "        done = False\n",
    "#         print(self.epsilon)\n",
    "#         self.count +=1\n",
    "        \n",
    "        while not done:\n",
    "            \n",
    "            action = self.select_action(env)\n",
    "#             print(action,\"wedwedw\")\n",
    "            next_state, reward, done, _ = env.step(action)\n",
    "            if done :\n",
    "                next_state = [0,0,0,0]\n",
    "\n",
    "            reward = reward if not done else -reward # this changed\n",
    "           \n",
    "#         print(\"reward\",r)\n",
    "#             if step_count >=200 :\n",
    "#                 reward = -1 \n",
    "            self.re_memory.put([state,action,next_state,reward, done],1)\n",
    "            step_count +=1\n",
    "            total_reward+=reward\n",
    "\n",
    "            \n",
    "            ls = self.train_network()\n",
    "            episode_loss+= ls \n",
    "            if step_count >=200:\n",
    "                break\n",
    "            state = next_state\n",
    "            \n",
    "#         print(\"r\",r)\n",
    "        return step_count, total_reward, episode_loss#/step_count\n",
    "\n",
    "        "
   ]
  },
  {
   "cell_type": "code",
   "execution_count": 26,
   "metadata": {
    "ExecuteTime": {
     "end_time": "2020-07-25T13:40:53.793277Z",
     "start_time": "2020-07-25T13:30:54.368693Z"
    }
   },
   "outputs": [
    {
     "name": "stdout",
     "output_type": "stream",
     "text": [
      "0\n",
      "100\n",
      "200\n",
      "300\n",
      "400\n",
      "500\n",
      "600\n",
      "700\n",
      "800\n",
      "900\n"
     ]
    },
    {
     "name": "stderr",
     "output_type": "stream",
     "text": [
      "No handles with labels found to put in legend.\n"
     ]
    },
    {
     "data": {
      "image/png": "[encoded data removed]",
      "text/plain": [
       "<Figure size 432x288 with 1 Axes>"
      ]
     },
     "metadata": {
      "needs_background": "light"
     },
     "output_type": "display_data"
    },
    {
     "name": "stderr",
     "output_type": "stream",
     "text": [
      "No handles with labels found to put in legend.\n"
     ]
    },
    {
     "data": {
      "image/png": "[encoded data removed]",
      "text/plain": [
       "<Figure size 432x288 with 1 Axes>"
      ]
     },
     "metadata": {
      "needs_background": "light"
     },
     "output_type": "display_data"
    }
   ],
   "source": [
    "\n",
    "np.random.seed(0)\n",
    "torch.manual_seed(0)\n",
    "episodes = 1000 # number of episodes\n",
    "epsilon_start = 1 # e-greedy threshold start value\n",
    "epsilon_end = .05  # e-greedy threshold end value\n",
    "decay_rate = 500\n",
    "iterations = 30\n",
    "gamma = .99 # Q-learning discount factor\n",
    "lr = 1e-4 # NN optimizer learning rate\n",
    "hl_size = 128  # NN hidden layer size\n",
    "batch_size = 128 # Q-learning batch size\n",
    "re_memory_size = 100000\n",
    "targe_change = 50\n",
    "\n",
    "# env = gym.make('CartPole-v0')\n",
    "# env = env.unwrapped\n",
    "\n",
    "# model = DQN(batch_size, epsilon_start, epsilon_end, lr, gamma, hl_size, re_memory_size, episodes, targe_change, decay_rate)\n",
    "\n",
    "# writer = SummaryWriter('runs/dqn', comment=\"LR_0.0001_BATCH_128_episodes_5000_gamma_0.99_re_memory_size_1000000_epsilon_start_1_epsilon_end_.005_targe_change_1\")\n",
    "\n",
    "# writer.add_graph(model.net, input_to_model=torch.tensor([[2,4,5,6]]).float(), verbose=False)\n",
    "\n",
    "\n",
    "\n",
    "# default `log_dir` is \"runs\" - we'll be more specific here\n",
    "step = []\n",
    "loss = []\n",
    "enu = [100000]\n",
    "for re_memory_size in enu:\n",
    "    env = gym.make('CartPole-v0')\n",
    "    env = env.unwrapped\n",
    "    model = DQN(batch_size, epsilon_start, epsilon_end, lr, gamma, hl_size, re_memory_size, episodes, targe_change, decay_rate)\n",
    "    a = []\n",
    "    b = []\n",
    "    c = []\n",
    "    for p in range(episodes):\n",
    "        if p % 100 == 0:\n",
    "            print(p)\n",
    "\n",
    "        i,j, k =  model.episode(env)\n",
    "    #     if p % 50 == 0:\n",
    "    #     writer.add_scalar('step count per episode', i, p)\n",
    "    #     writer.add_scalar('reward per episode', j, p)\n",
    "    #     writer.add_scalar('loss per episode', k, p)\n",
    "        a.append(i)\n",
    "        b.append(j)\n",
    "        c.append(k)\n",
    "    step.append(a)\n",
    "    loss.append(c)\n",
    "    env.close()\n",
    "    \n",
    "#     writer.add_scalar('reward', j, p)\n",
    "# writer.close()\n",
    "# plt.switch_backend('agg')\n",
    "# fig = plt.figure()\n",
    "for el, i in zip(step ,enu):\n",
    "    plt.xlabel(\"Episodes\")\n",
    "    plt.ylabel(\"Steps\")\n",
    "    plt.title(\"step count vs episode\")\n",
    "    plt.plot(np.arange(episodes),el )\n",
    "plt.legend()\n",
    "plt.show()\n",
    "plt.close()\n",
    "# plt.xlabel(\"Episodes\")\n",
    "# plt.ylabel(\"Rewards\")\n",
    "# plt.title(\"Rewards vs episode\")\n",
    "# plt.plot(np.arange(episodes),b)\n",
    "# plt.show()\n",
    "# env.close()\n",
    "for el,i in zip(loss, enu):\n",
    "    plt.xlabel(\"Episodes\")\n",
    "    plt.ylabel(\"Loss\")\n",
    "    plt.title(\"Loss vs episode\")\n",
    "    plt.plot(np.arange(episodes),el)\n",
    "plt.legend()\n",
    "plt.show()\n",
    "plt.close()"
   ]
  },
  {
   "cell_type": "code",
   "execution_count": 10,
   "metadata": {
    "ExecuteTime": {
     "end_time": "2020-07-24T17:08:47.752211Z",
     "start_time": "2020-07-24T17:08:47.748021Z"
    }
   },
   "outputs": [
    {
     "data": {
      "text/plain": [
       "0.0"
      ]
     },
     "execution_count": 10,
     "metadata": {},
     "output_type": "execute_result"
    }
   ],
   "source": [
    "sum(a[450:550])/100"
   ]
  },
  {
   "cell_type": "code",
   "execution_count": 27,
   "metadata": {
    "ExecuteTime": {
     "end_time": "2020-07-25T13:48:44.094931Z",
     "start_time": "2020-07-25T13:48:43.978954Z"
    }
   },
   "outputs": [
    {
     "name": "stderr",
     "output_type": "stream",
     "text": [
      "No handles with labels found to put in legend.\n"
     ]
    },
    {
     "name": "stdout",
     "output_type": "stream",
     "text": [
      "173.86 305\n"
     ]
    },
    {
     "data": {
      "image/png": "[encoded data removed]",
      "text/plain": [
       "<Figure size 432x288 with 1 Axes>"
      ]
     },
     "metadata": {
      "needs_background": "light"
     },
     "output_type": "display_data"
    }
   ],
   "source": [
    "\n",
    "\n",
    "nm = \"dqwd\"\n",
    "for el, j in zip(step ,enu):\n",
    "    xr = []\n",
    "    yr = []\n",
    "    e= 0\n",
    "    m = 0\n",
    "    for i in range(episodes-100):\n",
    "        op = sum(el[i:i+100])/100\n",
    "        if op>m:\n",
    "            m = op\n",
    "            e = i\n",
    "        yr.append(op)\n",
    "        xr.append(i)\n",
    "    plt.xlabel(\"Episodes\")\n",
    "    plt.ylabel(\"Average reward\")\n",
    "    plt.title(\"Average reward vs episode\")\n",
    "    plt.plot(xr,yr)\n",
    "    print(m,e)\n",
    "plt.legend()\n",
    "plt.show()\n"
   ]
  },
  {
   "cell_type": "markdown",
   "metadata": {},
   "source": [
    "{50:14.6, }"
   ]
  }
 ],
 "metadata": {
  "kernelspec": {
   "display_name": "Python 3",
   "language": "python",
   "name": "python3"
  },
  "language_info": {
   "codemirror_mode": {
    "name": "ipython",
    "version": 3
   },
   "file_extension": ".py",
   "mimetype": "text/x-python",
   "name": "python",
   "nbconvert_exporter": "python",
   "pygments_lexer": "ipython3",
   "version": "3.7.4"
  },
  "toc": {
   "base_numbering": 1,
   "nav_menu": {
    "height": "165px",
    "width": "160px"
   },
   "number_sections": true,
   "sideBar": true,
   "skip_h1_title": false,
   "title_cell": "Table of Contents",
   "title_sidebar": "Contents",
   "toc_cell": false,
   "toc_position": {},
   "toc_section_display": true,
   "toc_window_display": false
  },
  "varInspector": {
   "cols": {
    "lenName": 16,
    "lenType": 16,
    "lenVar": 40
   },
   "kernels_config": {
    "python": {
     "delete_cmd_postfix": "",
     "delete_cmd_prefix": "del ",
     "library": "var_list.py",
     "varRefreshCmd": "print(var_dic_list())"
    },
    "r": {
     "delete_cmd_postfix": ") ",
     "delete_cmd_prefix": "rm(",
     "library": "var_list.r",
     "varRefreshCmd": "cat(var_dic_list()) "
    }
   },
   "types_to_exclude": [
    "module",
    "function",
    "builtin_function_or_method",
    "instance",
    "_Feature"
   ],
   "window_display": false
  }
 },
 "nbformat": 4,
 "nbformat_minor": 4
}
